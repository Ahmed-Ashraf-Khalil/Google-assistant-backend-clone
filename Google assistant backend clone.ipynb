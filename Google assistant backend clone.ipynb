{
 "cells": [
  {
   "cell_type": "code",
   "execution_count": 32,
   "metadata": {},
   "outputs": [],
   "source": [
    "#ignore file warnings\n",
    "import warnings\n",
    "warnings.filterwarnings(\"ignore\") \n",
    "\n",
    "import numpy as np #for linear algebra\n",
    "import tflearn as tfl #tensorflow fast to use\n",
    "import tensorflow as tf #DL model training\n",
    "import random #to add randomness\n",
    "import json #dealing with json files\n",
    "from gtts import gTTS #Google Text-to-Speech\n",
    "import playsound #to play audio\n",
    "import os #operating system dealing\n",
    "import speech_recognition as sr #speech recognition pretraind model\n",
    "import webbrowser as wb\n",
    "from time import sleep\n",
    "\n",
    "#natural language preprocessing kit\n",
    "import nltk\n",
    "from nltk.stem.lancaster import LancasterStemmer\n",
    "stemmer = LancasterStemmer()"
   ]
  },
  {
   "cell_type": "code",
   "execution_count": 33,
   "metadata": {},
   "outputs": [],
   "source": [
    "# move text to API to play as audio\n",
    "def speak(text):\n",
    "    tts = gTTS(text=text,lang=\"en\")\n",
    "    filename = \"voice.mp3\"\n",
    "    tts.save(filename)\n",
    "    playsound.playsound(filename)\n",
    "    os.remove(filename)"
   ]
  },
  {
   "cell_type": "code",
   "execution_count": 34,
   "metadata": {},
   "outputs": [],
   "source": [
    "#get audio as input to text as output\n",
    "def get_audio():\n",
    "    r = sr.Recognizer()\n",
    "    with sr.Microphone() as sor:\n",
    "        audio = r.listen(sor)\n",
    "        what_u_said = \"\"\n",
    "        \n",
    "        try:\n",
    "            what_u_said = r.recognize_google(audio)\n",
    "        except:\n",
    "            speak(\"speak clearly\")\n",
    "            \n",
    "    return what_u_said"
   ]
  },
  {
   "cell_type": "code",
   "execution_count": 35,
   "metadata": {},
   "outputs": [],
   "source": [
    "#reading json file\n",
    "with open(\"intents.json\") as file:\n",
    "    data = json.load(file)"
   ]
  },
  {
   "cell_type": "code",
   "execution_count": 36,
   "metadata": {},
   "outputs": [],
   "source": [
    "#text preprocessing\n",
    "words = []\n",
    "labels = []\n",
    "docs_x = []\n",
    "docs_y = []\n",
    "\n",
    "for intent in data['intents']:\n",
    "    for pattern in intent['patterns']:\n",
    "        wrds = nltk.word_tokenize(pattern)\n",
    "        words.extend(wrds)\n",
    "        docs_x.append(wrds)\n",
    "        docs_y.append(intent[\"tag\"])\n",
    "        \n",
    "    if intent['tag'] not in labels:\n",
    "        labels.append(intent['tag'])\n"
   ]
  },
  {
   "cell_type": "code",
   "execution_count": 37,
   "metadata": {},
   "outputs": [],
   "source": [
    "words = [stemmer.stem(w.lower()) for w in words if w != \"?\"]\n",
    "words = sorted(list(set(words)))\n",
    "\n",
    "labels = sorted(labels)"
   ]
  },
  {
   "cell_type": "code",
   "execution_count": 38,
   "metadata": {},
   "outputs": [],
   "source": [
    "#traing data \n",
    "\n",
    "training = []\n",
    "output = []\n",
    "\n",
    "out_empty = [0 for _ in range(len(labels))]\n",
    "\n",
    "for x, doc in enumerate(docs_x):\n",
    "    bag = []\n",
    "\n",
    "    wrds = [stemmer.stem(w.lower()) for w in doc]\n",
    "\n",
    "    for w in words:\n",
    "        if w in wrds:\n",
    "            bag.append(1)\n",
    "        else:\n",
    "            bag.append(0)\n",
    "\n",
    "    output_row = out_empty[:]\n",
    "    output_row[labels.index(docs_y[x])] = 1\n",
    "\n",
    "    training.append(bag)\n",
    "    output.append(output_row)"
   ]
  },
  {
   "cell_type": "code",
   "execution_count": 39,
   "metadata": {},
   "outputs": [],
   "source": [
    "#changing the data to a numpy array\n",
    "training = np.array(training)\n",
    "output = np.array(output)"
   ]
  },
  {
   "cell_type": "code",
   "execution_count": 40,
   "metadata": {},
   "outputs": [],
   "source": [
    "# modelhyperparameters\n",
    "tf.reset_default_graph()\n",
    "\n",
    "net = tfl.input_data(shape=[None, len(training[0])])\n",
    "net = tfl.fully_connected(net, 8)\n",
    "net = tfl.fully_connected(net, 8)\n",
    "net = tfl.fully_connected(net, len(output[0]), activation=\"softmax\")\n",
    "net = tfl.regression(net)\n",
    "\n",
    "model = tfl.DNN(net)"
   ]
  },
  {
   "cell_type": "code",
   "execution_count": 41,
   "metadata": {},
   "outputs": [
    {
     "name": "stdout",
     "output_type": "stream",
     "text": [
      "Training Step: 4999  | total loss: \u001b[1m\u001b[32m1.68860\u001b[0m\u001b[0m | time: 0.019s\n",
      "| Adam | epoch: 1000 | loss: 1.68860 - acc: 0.8876 -- iter: 32/38\n",
      "Training Step: 5000  | total loss: \u001b[1m\u001b[32m1.52487\u001b[0m\u001b[0m | time: 0.022s\n",
      "| Adam | epoch: 1000 | loss: 1.52487 - acc: 0.8989 -- iter: 38/38\n",
      "--\n",
      "INFO:tensorflow:C:\\Users\\zd\\Desktop\\pro\\Remarkable-projects--master\\Google assistant backend clone\\model.tflearn is not in all_model_checkpoint_paths. Manually adding it.\n"
     ]
    }
   ],
   "source": [
    "model.fit(training, output, n_epoch=1000, batch_size=8, show_metric=True)\n",
    "#you can increase the n_epoch to get better accuracy\n",
    "model.save(\"model.tflearn\")"
   ]
  },
  {
   "cell_type": "code",
   "execution_count": 42,
   "metadata": {},
   "outputs": [],
   "source": [
    "#model.load(\"model.tflearn\")"
   ]
  },
  {
   "cell_type": "code",
   "execution_count": 43,
   "metadata": {},
   "outputs": [],
   "source": [
    "#bag of words\n",
    "def bag_of_words(s, words):\n",
    "    bag = [0 for _ in range(len(words))]\n",
    "\n",
    "    s_words = nltk.word_tokenize(s)\n",
    "    s_words = [stemmer.stem(word.lower()) for word in s_words]\n",
    "\n",
    "    for se in s_words:\n",
    "        for i, w in enumerate(words):\n",
    "            if w == se:\n",
    "                bag[i] = 1\n",
    "            \n",
    "    return np.array(bag)"
   ]
  },
  {
   "cell_type": "code",
   "execution_count": 44,
   "metadata": {},
   "outputs": [
    {
     "name": "stdout",
     "output_type": "stream",
     "text": [
      "Start talking with the bot!\n",
      "_____________________________ \n",
      "your turn : \n",
      "you :  hello how are you\n",
      "jessica :  after calculations i am good\n",
      "_____________________________ \n",
      "your turn : \n",
      "you :  what is your name\n",
      "jessica :  You can call me jessica\n",
      "_____________________________ \n",
      "your turn : \n",
      "you :  how old are you Jessica\n",
      "jessica :  it is my first year\n",
      "_____________________________ \n",
      "your turn : \n",
      "you :  tell me a joke\n",
      "jessica :  Why couldn't the bicycle stand up by itself?....It was two tired.\n",
      "_____________________________ \n",
      "your turn : \n",
      "you :  I want to search on a video\n",
      "jessica : what is your search please\n"
     ]
    }
   ],
   "source": [
    "# i wanna know ur name\n",
    "\n",
    "try:\n",
    "    speak(\"hello {}\".format(name.split()[-1]))\n",
    "    \n",
    "except:\n",
    "    speak(\"what is your first name\")\n",
    "    name = get_audio()\n",
    "    speak(\"hello {}\".format(name.split()[-1]))\n",
    "    \n",
    "print(\"Start talking with the bot!\")\n",
    "\n",
    "while True:\n",
    "    \n",
    "    print(\"_____________________________ \\nyour turn : \")\n",
    "    \n",
    "    inp = get_audio()\n",
    "        \n",
    "    results = model.predict([bag_of_words(inp, words)])\n",
    "    results_index = np.argmax(results)\n",
    "    tag = labels[results_index]\n",
    "\n",
    "    print(\"you : \", inp)\n",
    "    \n",
    "    for tg in data[\"intents\"]:\n",
    "        if tg['tag'] == tag:\n",
    "            responses = tg['responses']\n",
    "    l=random.choice(responses)\n",
    "        \n",
    "    if l == \"Goodbye\":\n",
    "        speak(l)\n",
    "        print(\"jessica : \",l)\n",
    "        break\n",
    "    \n",
    "    if l == \"YouTube\":\n",
    "        speak(\"what is your search please\")\n",
    "        print(\"jessica : what is your search please\")\n",
    "\n",
    "        get_1 = get_audio()\n",
    "        wb.open(\"https://www.youtube.com/results?search_query={}\".format(get_1))\n",
    "        break\n",
    "        \n",
    "    if l ==\"Google\":\n",
    "        speak(\"what is your search please\")\n",
    "        print(\"jessica : what is your search please\")\n",
    "        \n",
    "        get_1 = get_audio()\n",
    "        wb.open(\"https://www.google.com/search?q={}\".format(get_1))\n",
    "        break\n",
    "        \n",
    "    if l ==\"\":\n",
    "        speak(\"speak clearly\")\n",
    "        print(\"jessica : speak clearly\")\n",
    "            \n",
    "    else:\n",
    "        speak(l)\n",
    "        print(\"jessica : \",l)"
   ]
  },
  {
   "cell_type": "code",
   "execution_count": null,
   "metadata": {},
   "outputs": [],
   "source": []
  },
  {
   "cell_type": "code",
   "execution_count": null,
   "metadata": {},
   "outputs": [],
   "source": []
  }
 ],
 "metadata": {
  "kernelspec": {
   "display_name": "Python 3",
   "language": "python",
   "name": "python3"
  },
  "language_info": {
   "codemirror_mode": {
    "name": "ipython",
    "version": 3
   },
   "file_extension": ".py",
   "mimetype": "text/x-python",
   "name": "python",
   "nbconvert_exporter": "python",
   "pygments_lexer": "ipython3",
   "version": "3.6.5"
  }
 },
 "nbformat": 4,
 "nbformat_minor": 4
}
