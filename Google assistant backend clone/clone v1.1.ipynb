{
 "cells": [
  {
   "cell_type": "code",
   "execution_count": 1,
   "metadata": {},
   "outputs": [],
   "source": [
    "#pip install gTTS\n",
    "#pip install playsound\n",
    "#pip install google\n",
    "#conda install -c conda-forge speechrecognition\n",
    "#pip install pycopy-webbrowser\n",
    "#conda install -c jmcmurray os"
   ]
  },
  {
   "cell_type": "code",
   "execution_count": 2,
   "metadata": {},
   "outputs": [],
   "source": [
    "import warnings\n",
    "warnings.filterwarnings(\"ignore\")\n",
    "from gtts import gTTS\n",
    "import os\n",
    "import speech_recognition as sr\n",
    "import webbrowser as wb\n",
    "import playsound\n",
    "from time import sleep"
   ]
  },
  {
   "cell_type": "code",
   "execution_count": 3,
   "metadata": {},
   "outputs": [],
   "source": [
    "def speak(text):\n",
    "    tts = gTTS(text=text,lang=\"en\")\n",
    "    filename = \"voice.mp3\"\n",
    "    tts.save(filename)\n",
    "    playsound.playsound(filename)\n",
    "    os.remove(filename)"
   ]
  },
  {
   "cell_type": "code",
   "execution_count": 4,
   "metadata": {},
   "outputs": [],
   "source": [
    "def get_audio():\n",
    "    r = sr.Recognizer()\n",
    "    with sr.Microphone() as sor:\n",
    "        audio = r.listen(sor)\n",
    "        what_u_said = \"\"\n",
    "        \n",
    "        try:\n",
    "            what_u_said = r.recognize_google(audio)\n",
    "        except:\n",
    "            speak(\"speak clearly\")\n",
    "            \n",
    "    return what_u_said"
   ]
  },
  {
   "cell_type": "code",
   "execution_count": 5,
   "metadata": {},
   "outputs": [],
   "source": [
    "try:\n",
    "    speak(\"hello {}\".format(name.split()[-1]))\n",
    "    \n",
    "except:\n",
    "    speak(\"what is your first name\")\n",
    "    name = get_audio()\n",
    "    speak(\"hello {}\".format(name.split()[-1]))\n",
    "\n",
    "\n",
    "speak(\"would you like to search on specific web page ?\")\n",
    "\n",
    "\n",
    "get_1 = get_audio()\n",
    "\n",
    "\n",
    "if \"yes\" in get_1.split() or \"yea\" in get_1.split() or \"ok\" in get_1.split() or \"sure\" in get_1.split() :\n",
    "    \n",
    "    speak(\"what web page you want to surf in\")\n",
    "    get_1 = get_audio()\n",
    "\n",
    "    if \"Google\" in get_1.split():\n",
    "        speak(\"your search please\")\n",
    "        \n",
    "        get_1 = get_audio()\n",
    "        wb.open(\"https://www.google.com/search?q={}\".format(get_1))\n",
    "    \n",
    "    if \"YouTube\" in get_1.split():\n",
    "        speak(\"your search please\")\n",
    "        \n",
    "        get_1 = get_audio()\n",
    "        wb.open(\"https://www.youtube.com/results?search_query={}\".format(get_1))\n",
    "\n",
    "        \n",
    "if \"no\" in get_1.split() or \"nah\" in get_1.split() or \"nope\" in get_1.split() or \"none\" in get_1.split():\n",
    "    \n",
    "    speak(\"ok bye\")"
   ]
  },
  {
   "cell_type": "code",
   "execution_count": null,
   "metadata": {},
   "outputs": [],
   "source": []
  }
 ],
 "metadata": {
  "kernelspec": {
   "display_name": "Python 3",
   "language": "python",
   "name": "python3"
  },
  "language_info": {
   "codemirror_mode": {
    "name": "ipython",
    "version": 3
   },
   "file_extension": ".py",
   "mimetype": "text/x-python",
   "name": "python",
   "nbconvert_exporter": "python",
   "pygments_lexer": "ipython3",
   "version": "3.6.5"
  }
 },
 "nbformat": 4,
 "nbformat_minor": 4
}
